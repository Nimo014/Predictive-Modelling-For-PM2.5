{
 "cells": [
  {
   "cell_type": "code",
   "execution_count": 1,
   "id": "624178ed",
   "metadata": {},
   "outputs": [],
   "source": [
    "import pandas as pd \n",
    "import numpy as np\n",
    "import glob"
   ]
  },
  {
   "cell_type": "code",
   "execution_count": 2,
   "id": "032390b7",
   "metadata": {},
   "outputs": [],
   "source": [
    "def get_dataset(path,file_name,var):\n",
    "    \n",
    "    \n",
    "    season_order = ['Winter', 'Pre-Monsoon', 'Monsoon', 'Post-Monsoon']\n",
    "    \n",
    "    df = pd.read_csv(path)\n",
    "    \n",
    "    # insert season column \n",
    "    df.insert(0, 'Season', season_order)\n",
    "    \n",
    "    # Melt the dataframe into Season,Year and Variable Name\n",
    "    df = pd.melt(df, id_vars=['Season'], var_name='Year', value_name=var)\n",
    "    df['Season'] = pd.Categorical(df['Season'], categories=season_order, ordered=True)\n",
    "    df = df.sort_values(['Season', 'Year']).reset_index(drop=True)\n",
    "    df.insert(0,'City',file_name)\n",
    "    df = df.sort_values('City')\n",
    "    return df"
   ]
  },
  {
   "cell_type": "code",
   "execution_count": 4,
   "id": "b1118b26",
   "metadata": {},
   "outputs": [
    {
     "data": {
      "text/plain": [
       "['./Modis AOD_seasonal_data',\n",
       " './PM2p5_seasonal_data',\n",
       " './BLH_seasonal_data',\n",
       " './Insat AOD_seasonal_data']"
      ]
     },
     "execution_count": 4,
     "metadata": {},
     "output_type": "execute_result"
    }
   ],
   "source": [
    "file_path = glob.glob('./*')[:-2]\n",
    "file_path"
   ]
  },
  {
   "cell_type": "code",
   "execution_count": 5,
   "id": "0d99c4f2",
   "metadata": {},
   "outputs": [],
   "source": [
    "dfs = []\n",
    "\n",
    "# list to final dataframe of each parameter i.e INSAT AOD, MODIS AOD, PM2p5, BLH\n",
    "df_para = []\n",
    "\n",
    "for files in file_path:\n",
    "    dfs = []\n",
    "    variable_name = files.split('/')[-1].split('_')[0]\n",
    "    \n",
    "    # extract file from each parameter folder\n",
    "    cities_list = glob.glob(files+'/*.csv')\n",
    "   \n",
    "    for city in cities_list:\n",
    "        city_name = city.split('/')[-1].split('.')[0]\n",
    "        df = get_dataset(city,city_name,variable_name)\n",
    "        dfs.append(df)\n",
    "    df_concat = pd.concat(dfs)\n",
    "    df_concat = df_concat.sort_values('City')\n",
    "    \n",
    "    df_para.append(df_concat)"
   ]
  },
  {
   "cell_type": "code",
   "execution_count": null,
   "id": "716ec97a",
   "metadata": {},
   "outputs": [],
   "source": []
  },
  {
   "cell_type": "code",
   "execution_count": 6,
   "id": "6fea8b3b",
   "metadata": {
    "scrolled": false
   },
   "outputs": [
    {
     "data": {
      "text/plain": [
       "[           City        Season  Year  Modis AOD\n",
       " 13  Bihar_Patna   Pre-Monsoon  2021   0.872333\n",
       " 25  Bihar_Patna  Post-Monsoon  2019   0.928000\n",
       " 24  Bihar_Patna  Post-Monsoon  2018   0.712500\n",
       " 23  Bihar_Patna  Post-Monsoon  2017   0.719500\n",
       " 22  Bihar_Patna  Post-Monsoon  2016   0.731000\n",
       " ..          ...           ...   ...        ...\n",
       " 24   UP_Lucknow  Post-Monsoon  2018   0.680000\n",
       " 25   UP_Lucknow  Post-Monsoon  2019   0.934500\n",
       " 0    UP_Lucknow        Winter  2015   0.939333\n",
       " 14   UP_Lucknow       Monsoon  2015   0.458250\n",
       " 26   UP_Lucknow  Post-Monsoon  2020   0.784500\n",
       " \n",
       " [336 rows x 4 columns],\n",
       "            City        Season  Year       PM2p5\n",
       " 13  Bihar_Patna   Pre-Monsoon  2021   54.790984\n",
       " 25  Bihar_Patna  Post-Monsoon  2019  118.279762\n",
       " 24  Bihar_Patna  Post-Monsoon  2018  103.554645\n",
       " 23  Bihar_Patna  Post-Monsoon  2017  130.846491\n",
       " 22  Bihar_Patna  Post-Monsoon  2016  127.798611\n",
       " ..          ...           ...   ...         ...\n",
       " 24   UP_Lucknow  Post-Monsoon  2018  115.422935\n",
       " 25   UP_Lucknow  Post-Monsoon  2019  117.727001\n",
       " 0    UP_Lucknow        Winter  2015         NaN\n",
       " 14   UP_Lucknow       Monsoon  2015   44.268079\n",
       " 26   UP_Lucknow  Post-Monsoon  2020  107.147698\n",
       " \n",
       " [336 rows x 4 columns],\n",
       "            City        Season  Year        BLH\n",
       " 13  Bihar_Patna   Pre-Monsoon  2021  1918.3224\n",
       " 25  Bihar_Patna  Post-Monsoon  2019  1165.2688\n",
       " 24  Bihar_Patna  Post-Monsoon  2018  1418.5682\n",
       " 23  Bihar_Patna  Post-Monsoon  2017  1219.3834\n",
       " 22  Bihar_Patna  Post-Monsoon  2016  1257.7122\n",
       " ..          ...           ...   ...        ...\n",
       " 24   UP_Lucknow  Post-Monsoon  2018  1835.0261\n",
       " 25   UP_Lucknow  Post-Monsoon  2019  1228.4349\n",
       " 0    UP_Lucknow        Winter  2015   931.0865\n",
       " 14   UP_Lucknow       Monsoon  2015  1373.9429\n",
       " 26   UP_Lucknow  Post-Monsoon  2020  1519.3025\n",
       " \n",
       " [336 rows x 4 columns],\n",
       "            City        Season  Year  Insat AOD\n",
       " 13  Bihar_Patna   Pre-Monsoon  2021   3.436097\n",
       " 25  Bihar_Patna  Post-Monsoon  2019   0.802732\n",
       " 24  Bihar_Patna  Post-Monsoon  2018   0.455743\n",
       " 23  Bihar_Patna  Post-Monsoon  2017   0.598404\n",
       " 22  Bihar_Patna  Post-Monsoon  2016   0.172686\n",
       " ..          ...           ...   ...        ...\n",
       " 24   UP_Lucknow  Post-Monsoon  2018   0.548731\n",
       " 25   UP_Lucknow  Post-Monsoon  2019   0.813278\n",
       " 0    UP_Lucknow        Winter  2015   0.232348\n",
       " 14   UP_Lucknow       Monsoon  2015   0.283682\n",
       " 26   UP_Lucknow  Post-Monsoon  2020   0.674001\n",
       " \n",
       " [336 rows x 4 columns]]"
      ]
     },
     "execution_count": 6,
     "metadata": {},
     "output_type": "execute_result"
    }
   ],
   "source": [
    "df_para"
   ]
  },
  {
   "cell_type": "code",
   "execution_count": 7,
   "id": "42a294ff",
   "metadata": {},
   "outputs": [],
   "source": [
    "# Merge the first two dataframes\n",
    "merged_df = pd.merge(df_para[0], df_para[1], on=['City', 'Season', 'Year'], how='outer')\n",
    "\n",
    "# Merge the third dataframe\n",
    "merged_df = pd.merge(merged_df, df_para[2], on=['City', 'Season', 'Year'], how='outer')\n",
    "\n",
    "# Merge the fourth dataframe\n",
    "merged_df = pd.merge(merged_df, df_para[3], on=['City', 'Season', 'Year'], how='outer')\n",
    "\n",
    "# Sort the merged dataframe by City, Season, and Year columns\n",
    "merged_df = merged_df.sort_values(by=['City', 'Season', 'Year'])\n",
    "\n",
    "# Reorder the columns\n",
    "merged_df = merged_df[['City', 'Season', 'Year', 'Modis AOD','Insat AOD','BLH', 'PM2p5']]\n"
   ]
  },
  {
   "cell_type": "code",
   "execution_count": 8,
   "id": "5f54ed8a",
   "metadata": {},
   "outputs": [
    {
     "data": {
      "text/html": [
       "<div>\n",
       "<style scoped>\n",
       "    .dataframe tbody tr th:only-of-type {\n",
       "        vertical-align: middle;\n",
       "    }\n",
       "\n",
       "    .dataframe tbody tr th {\n",
       "        vertical-align: top;\n",
       "    }\n",
       "\n",
       "    .dataframe thead th {\n",
       "        text-align: right;\n",
       "    }\n",
       "</style>\n",
       "<table border=\"1\" class=\"dataframe\">\n",
       "  <thead>\n",
       "    <tr style=\"text-align: right;\">\n",
       "      <th></th>\n",
       "      <th>City</th>\n",
       "      <th>Season</th>\n",
       "      <th>Year</th>\n",
       "      <th>Modis AOD</th>\n",
       "      <th>Insat AOD</th>\n",
       "      <th>BLH</th>\n",
       "      <th>PM2p5</th>\n",
       "    </tr>\n",
       "  </thead>\n",
       "  <tbody>\n",
       "    <tr>\n",
       "      <th>24</th>\n",
       "      <td>Bihar_Patna</td>\n",
       "      <td>Winter</td>\n",
       "      <td>2015</td>\n",
       "      <td>1.042000</td>\n",
       "      <td>0.250223</td>\n",
       "      <td>974.9108</td>\n",
       "      <td>NaN</td>\n",
       "    </tr>\n",
       "    <tr>\n",
       "      <th>26</th>\n",
       "      <td>Bihar_Patna</td>\n",
       "      <td>Winter</td>\n",
       "      <td>2016</td>\n",
       "      <td>1.250667</td>\n",
       "      <td>0.185159</td>\n",
       "      <td>1250.5979</td>\n",
       "      <td>166.870381</td>\n",
       "    </tr>\n",
       "    <tr>\n",
       "      <th>27</th>\n",
       "      <td>Bihar_Patna</td>\n",
       "      <td>Winter</td>\n",
       "      <td>2017</td>\n",
       "      <td>0.801333</td>\n",
       "      <td>0.168022</td>\n",
       "      <td>1112.5720</td>\n",
       "      <td>153.334547</td>\n",
       "    </tr>\n",
       "    <tr>\n",
       "      <th>23</th>\n",
       "      <td>Bihar_Patna</td>\n",
       "      <td>Winter</td>\n",
       "      <td>2018</td>\n",
       "      <td>0.991333</td>\n",
       "      <td>0.821012</td>\n",
       "      <td>1125.3460</td>\n",
       "      <td>162.460784</td>\n",
       "    </tr>\n",
       "    <tr>\n",
       "      <th>22</th>\n",
       "      <td>Bihar_Patna</td>\n",
       "      <td>Winter</td>\n",
       "      <td>2019</td>\n",
       "      <td>0.844333</td>\n",
       "      <td>0.733033</td>\n",
       "      <td>1129.2333</td>\n",
       "      <td>144.468391</td>\n",
       "    </tr>\n",
       "    <tr>\n",
       "      <th>...</th>\n",
       "      <td>...</td>\n",
       "      <td>...</td>\n",
       "      <td>...</td>\n",
       "      <td>...</td>\n",
       "      <td>...</td>\n",
       "      <td>...</td>\n",
       "      <td>...</td>\n",
       "    </tr>\n",
       "    <tr>\n",
       "      <th>330</th>\n",
       "      <td>UP_Lucknow</td>\n",
       "      <td>Post-Monsoon</td>\n",
       "      <td>2017</td>\n",
       "      <td>0.850000</td>\n",
       "      <td>0.607114</td>\n",
       "      <td>1417.4482</td>\n",
       "      <td>167.764973</td>\n",
       "    </tr>\n",
       "    <tr>\n",
       "      <th>331</th>\n",
       "      <td>UP_Lucknow</td>\n",
       "      <td>Post-Monsoon</td>\n",
       "      <td>2018</td>\n",
       "      <td>0.680000</td>\n",
       "      <td>0.548731</td>\n",
       "      <td>1835.0261</td>\n",
       "      <td>115.422935</td>\n",
       "    </tr>\n",
       "    <tr>\n",
       "      <th>332</th>\n",
       "      <td>UP_Lucknow</td>\n",
       "      <td>Post-Monsoon</td>\n",
       "      <td>2019</td>\n",
       "      <td>0.934500</td>\n",
       "      <td>0.813278</td>\n",
       "      <td>1228.4349</td>\n",
       "      <td>117.727001</td>\n",
       "    </tr>\n",
       "    <tr>\n",
       "      <th>335</th>\n",
       "      <td>UP_Lucknow</td>\n",
       "      <td>Post-Monsoon</td>\n",
       "      <td>2020</td>\n",
       "      <td>0.784500</td>\n",
       "      <td>0.674001</td>\n",
       "      <td>1519.3025</td>\n",
       "      <td>107.147698</td>\n",
       "    </tr>\n",
       "    <tr>\n",
       "      <th>308</th>\n",
       "      <td>UP_Lucknow</td>\n",
       "      <td>Post-Monsoon</td>\n",
       "      <td>2021</td>\n",
       "      <td>0.697500</td>\n",
       "      <td>3.200981</td>\n",
       "      <td>1137.1241</td>\n",
       "      <td>74.719012</td>\n",
       "    </tr>\n",
       "  </tbody>\n",
       "</table>\n",
       "<p>336 rows × 7 columns</p>\n",
       "</div>"
      ],
      "text/plain": [
       "            City        Season  Year  Modis AOD  Insat AOD        BLH  \\\n",
       "24   Bihar_Patna        Winter  2015   1.042000   0.250223   974.9108   \n",
       "26   Bihar_Patna        Winter  2016   1.250667   0.185159  1250.5979   \n",
       "27   Bihar_Patna        Winter  2017   0.801333   0.168022  1112.5720   \n",
       "23   Bihar_Patna        Winter  2018   0.991333   0.821012  1125.3460   \n",
       "22   Bihar_Patna        Winter  2019   0.844333   0.733033  1129.2333   \n",
       "..           ...           ...   ...        ...        ...        ...   \n",
       "330   UP_Lucknow  Post-Monsoon  2017   0.850000   0.607114  1417.4482   \n",
       "331   UP_Lucknow  Post-Monsoon  2018   0.680000   0.548731  1835.0261   \n",
       "332   UP_Lucknow  Post-Monsoon  2019   0.934500   0.813278  1228.4349   \n",
       "335   UP_Lucknow  Post-Monsoon  2020   0.784500   0.674001  1519.3025   \n",
       "308   UP_Lucknow  Post-Monsoon  2021   0.697500   3.200981  1137.1241   \n",
       "\n",
       "          PM2p5  \n",
       "24          NaN  \n",
       "26   166.870381  \n",
       "27   153.334547  \n",
       "23   162.460784  \n",
       "22   144.468391  \n",
       "..          ...  \n",
       "330  167.764973  \n",
       "331  115.422935  \n",
       "332  117.727001  \n",
       "335  107.147698  \n",
       "308   74.719012  \n",
       "\n",
       "[336 rows x 7 columns]"
      ]
     },
     "execution_count": 8,
     "metadata": {},
     "output_type": "execute_result"
    }
   ],
   "source": [
    "merged_df"
   ]
  },
  {
   "cell_type": "code",
   "execution_count": 9,
   "id": "26680d17",
   "metadata": {},
   "outputs": [
    {
     "data": {
      "text/html": [
       "<div>\n",
       "<style scoped>\n",
       "    .dataframe tbody tr th:only-of-type {\n",
       "        vertical-align: middle;\n",
       "    }\n",
       "\n",
       "    .dataframe tbody tr th {\n",
       "        vertical-align: top;\n",
       "    }\n",
       "\n",
       "    .dataframe thead th {\n",
       "        text-align: right;\n",
       "    }\n",
       "</style>\n",
       "<table border=\"1\" class=\"dataframe\">\n",
       "  <thead>\n",
       "    <tr style=\"text-align: right;\">\n",
       "      <th></th>\n",
       "      <th>Modis AOD</th>\n",
       "      <th>Insat AOD</th>\n",
       "      <th>BLH</th>\n",
       "      <th>PM2p5</th>\n",
       "    </tr>\n",
       "  </thead>\n",
       "  <tbody>\n",
       "    <tr>\n",
       "      <th>count</th>\n",
       "      <td>320.000000</td>\n",
       "      <td>335.000000</td>\n",
       "      <td>336.000000</td>\n",
       "      <td>307.000000</td>\n",
       "    </tr>\n",
       "    <tr>\n",
       "      <th>mean</th>\n",
       "      <td>0.572360</td>\n",
       "      <td>1.137243</td>\n",
       "      <td>1347.786354</td>\n",
       "      <td>70.589994</td>\n",
       "    </tr>\n",
       "    <tr>\n",
       "      <th>std</th>\n",
       "      <td>0.229100</td>\n",
       "      <td>1.141232</td>\n",
       "      <td>569.137495</td>\n",
       "      <td>45.383944</td>\n",
       "    </tr>\n",
       "    <tr>\n",
       "      <th>min</th>\n",
       "      <td>0.155000</td>\n",
       "      <td>0.099633</td>\n",
       "      <td>188.043080</td>\n",
       "      <td>8.083705</td>\n",
       "    </tr>\n",
       "    <tr>\n",
       "      <th>25%</th>\n",
       "      <td>0.401000</td>\n",
       "      <td>0.273872</td>\n",
       "      <td>971.385922</td>\n",
       "      <td>37.749254</td>\n",
       "    </tr>\n",
       "    <tr>\n",
       "      <th>50%</th>\n",
       "      <td>0.527750</td>\n",
       "      <td>0.716424</td>\n",
       "      <td>1243.731700</td>\n",
       "      <td>54.790984</td>\n",
       "    </tr>\n",
       "    <tr>\n",
       "      <th>75%</th>\n",
       "      <td>0.761813</td>\n",
       "      <td>1.566922</td>\n",
       "      <td>1745.395825</td>\n",
       "      <td>99.480157</td>\n",
       "    </tr>\n",
       "    <tr>\n",
       "      <th>max</th>\n",
       "      <td>1.251000</td>\n",
       "      <td>4.665590</td>\n",
       "      <td>2924.515400</td>\n",
       "      <td>327.505618</td>\n",
       "    </tr>\n",
       "  </tbody>\n",
       "</table>\n",
       "</div>"
      ],
      "text/plain": [
       "        Modis AOD   Insat AOD          BLH       PM2p5\n",
       "count  320.000000  335.000000   336.000000  307.000000\n",
       "mean     0.572360    1.137243  1347.786354   70.589994\n",
       "std      0.229100    1.141232   569.137495   45.383944\n",
       "min      0.155000    0.099633   188.043080    8.083705\n",
       "25%      0.401000    0.273872   971.385922   37.749254\n",
       "50%      0.527750    0.716424  1243.731700   54.790984\n",
       "75%      0.761813    1.566922  1745.395825   99.480157\n",
       "max      1.251000    4.665590  2924.515400  327.505618"
      ]
     },
     "execution_count": 9,
     "metadata": {},
     "output_type": "execute_result"
    }
   ],
   "source": [
    "merged_df.describe()"
   ]
  },
  {
   "cell_type": "code",
   "execution_count": 10,
   "id": "618d74f5",
   "metadata": {},
   "outputs": [
    {
     "name": "stdout",
     "output_type": "stream",
     "text": [
      "['./Datasets/Train.csv']\n"
     ]
    }
   ],
   "source": [
    "print(glob.glob('./Datasets/Train.csv'))"
   ]
  },
  {
   "cell_type": "code",
   "execution_count": 18,
   "id": "d3ae1006",
   "metadata": {},
   "outputs": [],
   "source": [
    "#merged_df.to_csv('./Datasets/Train.csv', index=False)"
   ]
  },
  {
   "cell_type": "code",
   "execution_count": 12,
   "id": "72a87e80",
   "metadata": {},
   "outputs": [
    {
     "data": {
      "text/html": [
       "<div>\n",
       "<style scoped>\n",
       "    .dataframe tbody tr th:only-of-type {\n",
       "        vertical-align: middle;\n",
       "    }\n",
       "\n",
       "    .dataframe tbody tr th {\n",
       "        vertical-align: top;\n",
       "    }\n",
       "\n",
       "    .dataframe thead th {\n",
       "        text-align: right;\n",
       "    }\n",
       "</style>\n",
       "<table border=\"1\" class=\"dataframe\">\n",
       "  <thead>\n",
       "    <tr style=\"text-align: right;\">\n",
       "      <th></th>\n",
       "      <th>City</th>\n",
       "      <th>Season</th>\n",
       "      <th>Year</th>\n",
       "      <th>Modis AOD</th>\n",
       "      <th>Insat AOD</th>\n",
       "      <th>BLH</th>\n",
       "      <th>PM2p5</th>\n",
       "    </tr>\n",
       "  </thead>\n",
       "  <tbody>\n",
       "    <tr>\n",
       "      <th>330</th>\n",
       "      <td>UP_Lucknow</td>\n",
       "      <td>Post-Monsoon</td>\n",
       "      <td>2017</td>\n",
       "      <td>0.8500</td>\n",
       "      <td>0.607114</td>\n",
       "      <td>1417.4482</td>\n",
       "      <td>167.764973</td>\n",
       "    </tr>\n",
       "    <tr>\n",
       "      <th>331</th>\n",
       "      <td>UP_Lucknow</td>\n",
       "      <td>Post-Monsoon</td>\n",
       "      <td>2018</td>\n",
       "      <td>0.6800</td>\n",
       "      <td>0.548731</td>\n",
       "      <td>1835.0261</td>\n",
       "      <td>115.422935</td>\n",
       "    </tr>\n",
       "    <tr>\n",
       "      <th>332</th>\n",
       "      <td>UP_Lucknow</td>\n",
       "      <td>Post-Monsoon</td>\n",
       "      <td>2019</td>\n",
       "      <td>0.9345</td>\n",
       "      <td>0.813278</td>\n",
       "      <td>1228.4349</td>\n",
       "      <td>117.727001</td>\n",
       "    </tr>\n",
       "    <tr>\n",
       "      <th>335</th>\n",
       "      <td>UP_Lucknow</td>\n",
       "      <td>Post-Monsoon</td>\n",
       "      <td>2020</td>\n",
       "      <td>0.7845</td>\n",
       "      <td>0.674001</td>\n",
       "      <td>1519.3025</td>\n",
       "      <td>107.147698</td>\n",
       "    </tr>\n",
       "    <tr>\n",
       "      <th>308</th>\n",
       "      <td>UP_Lucknow</td>\n",
       "      <td>Post-Monsoon</td>\n",
       "      <td>2021</td>\n",
       "      <td>0.6975</td>\n",
       "      <td>3.200981</td>\n",
       "      <td>1137.1241</td>\n",
       "      <td>74.719012</td>\n",
       "    </tr>\n",
       "  </tbody>\n",
       "</table>\n",
       "</div>"
      ],
      "text/plain": [
       "           City        Season  Year  Modis AOD  Insat AOD        BLH  \\\n",
       "330  UP_Lucknow  Post-Monsoon  2017     0.8500   0.607114  1417.4482   \n",
       "331  UP_Lucknow  Post-Monsoon  2018     0.6800   0.548731  1835.0261   \n",
       "332  UP_Lucknow  Post-Monsoon  2019     0.9345   0.813278  1228.4349   \n",
       "335  UP_Lucknow  Post-Monsoon  2020     0.7845   0.674001  1519.3025   \n",
       "308  UP_Lucknow  Post-Monsoon  2021     0.6975   3.200981  1137.1241   \n",
       "\n",
       "          PM2p5  \n",
       "330  167.764973  \n",
       "331  115.422935  \n",
       "332  117.727001  \n",
       "335  107.147698  \n",
       "308   74.719012  "
      ]
     },
     "execution_count": 12,
     "metadata": {},
     "output_type": "execute_result"
    }
   ],
   "source": [
    "merged_df.tail()"
   ]
  },
  {
   "cell_type": "code",
   "execution_count": 13,
   "id": "f8f67551",
   "metadata": {},
   "outputs": [
    {
     "data": {
      "text/plain": [
       "12"
      ]
     },
     "execution_count": 13,
     "metadata": {},
     "output_type": "execute_result"
    }
   ],
   "source": [
    "len(df_para[1].City.unique())"
   ]
  },
  {
   "cell_type": "code",
   "execution_count": 14,
   "id": "394d7ef3",
   "metadata": {},
   "outputs": [
    {
     "data": {
      "text/plain": [
       "12"
      ]
     },
     "execution_count": 14,
     "metadata": {},
     "output_type": "execute_result"
    }
   ],
   "source": [
    "len(merged_df.City.unique())"
   ]
  },
  {
   "cell_type": "code",
   "execution_count": 16,
   "id": "3e1d8c8a",
   "metadata": {},
   "outputs": [
    {
     "data": {
      "text/plain": [
       "12"
      ]
     },
     "execution_count": 16,
     "metadata": {},
     "output_type": "execute_result"
    }
   ],
   "source": [
    "len(merged_df.City.unique())"
   ]
  },
  {
   "cell_type": "code",
   "execution_count": null,
   "id": "5a6b50c0",
   "metadata": {},
   "outputs": [],
   "source": []
  }
 ],
 "metadata": {
  "kernelspec": {
   "display_name": "Python 3 (ipykernel)",
   "language": "python",
   "name": "python3"
  },
  "language_info": {
   "codemirror_mode": {
    "name": "ipython",
    "version": 3
   },
   "file_extension": ".py",
   "mimetype": "text/x-python",
   "name": "python",
   "nbconvert_exporter": "python",
   "pygments_lexer": "ipython3",
   "version": "3.9.7"
  }
 },
 "nbformat": 4,
 "nbformat_minor": 5
}

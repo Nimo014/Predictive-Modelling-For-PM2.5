{
 "cells": [
  {
   "cell_type": "code",
   "execution_count": null,
   "id": "fd176d88",
   "metadata": {},
   "outputs": [],
   "source": [
    "# Importing Dependencies\n",
    "\n",
    "import matplotlib as mpl\n",
    "import matplotlib.pyplot as plt\n",
    "import cartopy.crs as ccrs\n",
    "import cartopy\n",
    "import numpy as np\n",
    "import pandas as pd\n",
    "import glob\n",
    "import xarray as xr\n",
    "import warnings\n",
    "import pandas as pd\n",
    "import seaborn as sns\n",
    "import sklearn\n",
    "from sklearn.preprocessing import MinMaxScaler\n",
    "import geopandas as gpd\n",
    "import rioxarray\n",
    "from rasterio import features\n",
    "from affine import Affine\n",
    "import datetime\n",
    "\n",
    "from cartopy.mpl.gridliner import LONGITUDE_FORMATTER, LATITUDE_FORMATTER\n",
    "\n",
    "from pyhdf.SD import SD, SDC\n",
    "\n",
    "plt.style.use('ggplot')\n",
    "\n",
    "warnings.filterwarnings('ignore')"
   ]
  },
  {
   "cell_type": "markdown",
   "id": "2216cab0",
   "metadata": {},
   "source": [
    "# LOAD INSAT DATA"
   ]
  },
  {
   "cell_type": "code",
   "execution_count": null,
   "id": "1a535772",
   "metadata": {},
   "outputs": [],
   "source": [
    "# TESTING ON ACTUAL DATA\n",
    "#Loading AOD Dataset for testing \n",
    "aod_file = glob.glob('./Data/AOD/*')\n",
    "aod_insat3D = glob.glob(aod_file[1]+'/*')\n",
    "\n",
    "aod_2015 = []\n",
    "aod_JFM_2014 = []\n",
    "for file in aod_insat3D:\n",
    "    file_date = file.split('\\\\')[-1].split('_')[1]\n",
    "    \n",
    "    month = file_date[2:5]\n",
    "    year = file_date[5:]\n",
    "    \n",
    "    if (month == 'JAN' or month == 'FEB' or month == 'MAR') and year == '2014':\n",
    "        aod_JFM_2014.append(file)\n",
    "    if year == '2015':\n",
    "        aod_2015.append(file)\n",
    "    \n",
    "datasets = []\n",
    "for file in aod_2015:\n",
    "    ds = xr.open_dataset(file)\n",
    "    # Sort the longitude coordinate in ascending order\n",
    "    ds = ds.sortby('longitude').sortby('latitude')\n",
    "    ds = ds.sel(latitude=slice(8,38),longitude=slice(68,98))\n",
    "    #print(ds.dims)\n",
    "    datasets.append(ds)\n",
    "\n",
    "ds_concat = xr.concat(datasets, dim='time')\n",
    "ds = xr.open_mfdataset(aod_JFM_2014,combine=\"nested\",concat_dim='time')\n",
    "ds_temp = ds.sel(latitude=slice(8,38),longitude=slice(68,98)).load()"
   ]
  },
  {
   "cell_type": "code",
   "execution_count": null,
   "id": "214af89f",
   "metadata": {},
   "outputs": [],
   "source": [
    "fig,axes =  plt.subplots(1,2,figsize=(13,4))\n",
    "ds_temp.AOD.isel(time=0).plot(ax=axes[0])\n",
    "ds_temp.AOD.isel(time=1000).plot(ax=axes[1])\n",
    "plt.show()"
   ]
  },
  {
   "cell_type": "code",
   "execution_count": null,
   "id": "4d665fc6",
   "metadata": {},
   "outputs": [],
   "source": []
  },
  {
   "cell_type": "code",
   "execution_count": null,
   "id": "1a0d2d6e",
   "metadata": {},
   "outputs": [],
   "source": []
  },
  {
   "cell_type": "code",
   "execution_count": null,
   "id": "10961529",
   "metadata": {},
   "outputs": [],
   "source": []
  },
  {
   "cell_type": "code",
   "execution_count": null,
   "id": "813601ba",
   "metadata": {},
   "outputs": [],
   "source": []
  },
  {
   "cell_type": "markdown",
   "id": "f549c52b",
   "metadata": {},
   "source": [
    "# Load Aeronet Data"
   ]
  },
  {
   "cell_type": "code",
   "execution_count": 1,
   "id": "a5d6fbbc",
   "metadata": {},
   "outputs": [],
   "source": [
    "def read_aeronet_data(path):  \n",
    "    df_temp = pd.read_csv(path,sep='\\t',skiprows=[0])\n",
    "    #Get lat and lon\n",
    "    lat_loc,lon_loc = df_temp['Site_Latitude(Degrees)'].unique(), df_temp['Site_Longitude(Degrees)'].unique()\n",
    "      \n",
    "    \n",
    "    # Taking only date and aod column\n",
    "    df_temp = df_temp[['Date(dd:mm:yyyy)','AOD_675nm',]]\n",
    "    \n",
    "    df_temp['Date'] = pd.to_datetime(df_temp['Date(dd:mm:yyyy)'], format='%d:%m:%Y')\n",
    "    df_temp = df_temp.drop(columns=['Date(dd:mm:yyyy)'])\n",
    "    df_temp = df_temp.replace(-999, np.nan)\n",
    "    df_temp = df_temp.sort_values(by='Date')\n",
    "    \n",
    "    df_temp = df_temp.rename(columns={'Date': 'time'})\n",
    "    return df_temp,lat_loc,lon_loc"
   ]
  },
  {
   "cell_type": "code",
   "execution_count": 2,
   "id": "023957c0",
   "metadata": {},
   "outputs": [
    {
     "ename": "NameError",
     "evalue": "name 'glob' is not defined",
     "output_type": "error",
     "traceback": [
      "\u001b[1;31m---------------------------------------------------------------------------\u001b[0m",
      "\u001b[1;31mNameError\u001b[0m                                 Traceback (most recent call last)",
      "Cell \u001b[1;32mIn[2], line 2\u001b[0m\n\u001b[0;32m      1\u001b[0m \u001b[38;5;66;03m# AERONET DATASET\u001b[39;00m\n\u001b[1;32m----> 2\u001b[0m aeronet_dataset \u001b[38;5;241m=\u001b[39m \u001b[43mglob\u001b[49m\u001b[38;5;241m.\u001b[39mglob(aod_file[\u001b[38;5;241m3\u001b[39m]\u001b[38;5;241m+\u001b[39m\u001b[38;5;124m'\u001b[39m\u001b[38;5;124m/*\u001b[39m\u001b[38;5;124m'\u001b[39m)\n\u001b[0;32m      4\u001b[0m \u001b[38;5;66;03m# LOAD AERONET DATASET\u001b[39;00m\n\u001b[0;32m      5\u001b[0m \u001b[38;5;28mprint\u001b[39m(aeronet_dataset)\n",
      "\u001b[1;31mNameError\u001b[0m: name 'glob' is not defined"
     ]
    }
   ],
   "source": [
    "# AERONET DATASET\n",
    "aeronet_dataset = glob.glob(aod_file[3]+'/*')\n",
    "\n",
    "# LOAD AERONET DATASET\n",
    "print(aeronet_dataset)\n",
    "\n",
    "\n",
    "gual_path = str(glob.glob(aeronet_dataset[0]+'/*')[0])\n",
    "\n",
    "pune_path = str(glob.glob(aeronet_dataset[1]+'/*')[0])\n",
    "\n",
    "gandhi_clg = str(glob.glob(aeronet_dataset[2]+'/*')[0])\n",
    "\n",
    "jaipur_path = str(glob.glob(aeronet_dataset[3]+'/*')[0])\n",
    "\n",
    "kanpur_path = str(glob.glob(aeronet_dataset[4]+'/*')[0])\n",
    "\n",
    "df,lat_loc,lon_loc = read_aeronet_data(jaipur_path)\n",
    "\n",
    "print(lat_loc,lon_loc)\n",
    "df.head()"
   ]
  },
  {
   "cell_type": "code",
   "execution_count": null,
   "id": "940f0661",
   "metadata": {},
   "outputs": [],
   "source": []
  },
  {
   "cell_type": "code",
   "execution_count": null,
   "id": "f5c76b41",
   "metadata": {},
   "outputs": [],
   "source": []
  },
  {
   "cell_type": "code",
   "execution_count": null,
   "id": "0f078264",
   "metadata": {},
   "outputs": [],
   "source": []
  },
  {
   "cell_type": "code",
   "execution_count": null,
   "id": "47bc517c",
   "metadata": {},
   "outputs": [],
   "source": [
    "# Select time period\n",
    "start_date = '2015-01-01'\n",
    "end_date = '2015-12-31'\n",
    "insat_data = ds_concat.sel(time=slice(start_date,end_date)).sortby('time')\n",
    "aeronet_data = df.loc[(df['time'] >= start_date) & (df['time'] <= end_date)]\n",
    "\n",
    "\n",
    "def convert_date(df,f = '1D'):\n",
    "    # set 'Date' column as the index\n",
    "    temp = df.set_index('time')\n",
    "\n",
    "    # group data by time and calculate the mean 'AOD' value\n",
    "    temp_df = temp.groupby(pd.Grouper(freq=f)).mean()\n",
    "    # reset the index to include the 'Date' column\n",
    "\n",
    "    temp_df = temp_df.reset_index()\n",
    "\n",
    "    return temp_df\n",
    "\n",
    "# select location\n",
    "insat_data = insat_data.sel(latitude=lat_loc,longitude=lon_loc,method='nearest')\n",
    "\n",
    "# daily\n",
    "insat_data = insat_data.resample(time='1D').mean().sortby('time')\n",
    "aeronet_data = convert_date(aeronet_data,f='1D')"
   ]
  },
  {
   "cell_type": "code",
   "execution_count": null,
   "id": "0846cca1",
   "metadata": {},
   "outputs": [],
   "source": [
    "insat_data"
   ]
  },
  {
   "cell_type": "code",
   "execution_count": null,
   "id": "93e5986b",
   "metadata": {},
   "outputs": [],
   "source": [
    "aeronet_data"
   ]
  },
  {
   "cell_type": "code",
   "execution_count": null,
   "id": "f0901e90",
   "metadata": {},
   "outputs": [],
   "source": [
    "#insat_data.AOD.values"
   ]
  },
  {
   "cell_type": "code",
   "execution_count": null,
   "id": "c45b036a",
   "metadata": {},
   "outputs": [],
   "source": []
  },
  {
   "cell_type": "markdown",
   "id": "6ec35a3f",
   "metadata": {},
   "source": [
    "# Scatter plot"
   ]
  },
  {
   "cell_type": "code",
   "execution_count": null,
   "id": "f82d48e6",
   "metadata": {},
   "outputs": [],
   "source": [
    "from sklearn.linear_model import LinearRegression\n",
    "\n",
    "# scatter plot\n",
    "insat_df = insat_data.to_dataframe().reset_index()\n",
    "#modis_df = modis_data.to_dataframe().reset_index()\n",
    "\n",
    "\n",
    "# Merge the INSAT and MODIS dataframes by time\n",
    "merged_df = pd.merge(aeronet_data,insat_df, on='time')\n",
    "\n",
    "merged_df = merged_df.drop(['latitude', 'longitude'], axis=1)\n",
    "merged_df = merged_df.dropna(subset=['AOD_675nm', 'AOD'], how='any')\n",
    "\n",
    "merged_df\n",
    "\n",
    "# Create the scatter plot\n",
    "fig, axes = plt.subplots(1,2,figsize=(15,5))\n",
    "ax = axes[0]\n",
    "ax.scatter(merged_df['AOD_675nm'], merged_df['AOD'], color='blue')\n",
    "ax.set_xlabel('AERONET AOD 675nm')\n",
    "ax.set_ylabel('INSAT AOD 650nm')\n",
    "\n",
    "# Calculate the regression line\n",
    "regression = LinearRegression().fit(merged_df['AOD_675nm'].values.reshape(-1, 1), merged_df['AOD'].values.reshape(-1, 1))\n",
    "slope = regression.coef_[0][0]\n",
    "intercept = regression.intercept_[0]\n",
    "\n",
    "# Calculate the limits\n",
    "limit = max(merged_df['AOD_675nm'].max(), merged_df['AOD'].max())\n",
    "\n",
    "# Add the regression line to the scatter plot\n",
    "x_vals = np.arange(0,limit+2)\n",
    "y_vals = intercept + slope * x_vals\n",
    "ax.plot(x_vals, y_vals, '--', color='blue')\n",
    "\n",
    "# RMSE and Corr\n",
    "rmse = np.sqrt(np.mean((merged_df['AOD_675nm'] - merged_df['AOD']) ** 2))\n",
    "corr_coef = np.corrcoef(merged_df['AOD_675nm'], merged_df['AOD'])[0,1]\n",
    "\n",
    "# Add RMSE and correlation coefficient as text inside the plot\n",
    "textstr = f'RMSE = {rmse:.2f}\\nR = {corr_coef:.2f}'\n",
    "props = dict(boxstyle='round', facecolor='white', alpha=0.5)\n",
    "ax.text(0.05, 0.95, textstr, transform=ax.transAxes, fontsize=10,\n",
    "        verticalalignment='top', bbox=props)\n",
    "\n",
    "\n",
    "# Calculate the step\n",
    "step = 0.5\n",
    "\n",
    "# Set the limits and step to be the same for both axes\n",
    "ax.set_xlim([0, limit])\n",
    "ax.set_ylim([0, limit])\n",
    "ax.set_xticks(np.arange(0, limit+step, step))\n",
    "ax.set_yticks(np.arange(0, limit+step, step))\n",
    "ax.plot(ax.get_xlim(),ax.get_xlim(), '--', color='black')\n",
    "\n",
    "ax = axes[1]\n",
    "merged_df.plot(x='time', y=['AOD', 'AOD_675nm'],label=['INSAT','Aeronet'], ax=ax)\n",
    "\n",
    "#plt.savefig('./plots/aod_plot/scatter_plot/kanpur_2015_scatter')\n",
    "# Display the plot\n",
    "\n",
    "plt.suptitle('kanpur,2015',weight='bold')\n",
    "plt.show()"
   ]
  },
  {
   "cell_type": "code",
   "execution_count": null,
   "id": "06cd8ad7",
   "metadata": {},
   "outputs": [],
   "source": []
  },
  {
   "cell_type": "code",
   "execution_count": null,
   "id": "7faf923e",
   "metadata": {},
   "outputs": [],
   "source": []
  }
 ],
 "metadata": {
  "kernelspec": {
   "display_name": "Python 3 (ipykernel)",
   "language": "python",
   "name": "python3"
  },
  "language_info": {
   "codemirror_mode": {
    "name": "ipython",
    "version": 3
   },
   "file_extension": ".py",
   "mimetype": "text/x-python",
   "name": "python",
   "nbconvert_exporter": "python",
   "pygments_lexer": "ipython3",
   "version": "3.9.16"
  }
 },
 "nbformat": 4,
 "nbformat_minor": 5
}

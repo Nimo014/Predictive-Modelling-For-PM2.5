{
 "cells": [
  {
   "cell_type": "code",
   "execution_count": 52,
   "id": "2eba42b9",
   "metadata": {},
   "outputs": [],
   "source": [
    "import glob\n",
    "import numpy as np\n",
    "import pandas as pd\n",
    "import matplotlib.pyplot as plt"
   ]
  },
  {
   "cell_type": "code",
   "execution_count": 54,
   "id": "717371ad",
   "metadata": {},
   "outputs": [
    {
     "name": "stdout",
     "output_type": "stream",
     "text": [
      "State 0: Bihar City 1 Station 1\n",
      "State 1: Delhi City 1 Station 7\n",
      "State 2: Gujarat City 1 Station 1\n",
      "State 3: Haryana City 1 Station 1\n",
      "State 4: Karnataka City 1 Station 3\n",
      "State 5: Maharashtra City 3 Station 3\n",
      "State 6: Tamil Nadu City 1 Station 2\n",
      "State 7: Telangana City 1 Station 1\n",
      "State 8: Uttar Pradesh City 4 Station 4\n"
     ]
    }
   ],
   "source": [
    "# PM CPCB DIRECTORY\n",
    "state_pm2p5 = glob.glob('./Data/PM/CPCB/State/*')\n",
    "for i in range(len(state_pm2p5)):\n",
    "    print(\"State\",i,end=': ')\n",
    "    print(state_pm2p5[i].split('\\\\')[-1],end=' City ')\n",
    "    city = glob.glob(state_pm2p5[i]+'/*')\n",
    "    print(len(city), end = ' Station ')\n",
    "    \n",
    "    station  = [glob.glob(city[i]+'/*') for i in range(len(city))]\n",
    "    \n",
    "    print(len(station[0])*len(station))"
   ]
  },
  {
   "cell_type": "code",
   "execution_count": 48,
   "id": "d2f91ebb",
   "metadata": {},
   "outputs": [
    {
     "data": {
      "text/plain": [
       "['./Data/PM/CPCB/State\\\\Uttar Pradesh\\\\lucknow\\\\KV',\n",
       " './Data/PM/CPCB/State\\\\Uttar Pradesh\\\\lucknow\\\\lalbhag',\n",
       " './Data/PM/CPCB/State\\\\Uttar Pradesh\\\\lucknow\\\\Talkatora']"
      ]
     },
     "execution_count": 48,
     "metadata": {},
     "output_type": "execute_result"
    }
   ],
   "source": [
    "\n",
    "# Select State\n",
    "City = glob.glob(state_pm2p5[8]+'/*')\n",
    "\n",
    "# Select City\n",
    "Station  = glob.glob(City[2]+'/*')\n",
    "Station"
   ]
  },
  {
   "cell_type": "code",
   "execution_count": 49,
   "id": "c1ea4730",
   "metadata": {},
   "outputs": [
    {
     "name": "stdout",
     "output_type": "stream",
     "text": [
      "Station Data 0 Loaded\n",
      "Station Data 1 Loaded\n",
      "Station Data 2 Loaded\n"
     ]
    }
   ],
   "source": [
    "def aggregate_station_data(dfs):\n",
    "    \n",
    "    # Append ALL Station Data\n",
    "    df_combined = dfs[0]\n",
    "    for i in range(1, len(dfs)):\n",
    "        df_combined = pd.merge(df_combined, dfs[i], on=['From Date','To Date'], suffixes=('', f'_{i+1}'))\n",
    "    \n",
    "    # Replace None with NaN for mean calculation\n",
    "    df_combined.replace('None', np.nan, inplace=True)\n",
    "    \n",
    "    # taking mean of col 2 to last col \n",
    "    df_combined['mean_PM2.5'] = df_combined.iloc[:, 2:].mean(axis=1)\n",
    "    \n",
    "    # Drop all station col and select mean & date col only\n",
    "    df_combined = df_combined[['From Date','To Date','mean_PM2.5']]\n",
    "    \n",
    "    # Renaming Mean PM2.5 to PM2.5\n",
    "    df_combined = df_combined.rename(columns={'mean_PM2.5':'PM2.5'})\n",
    "    \n",
    "    return df_combined\n",
    "\n",
    "# APPENDING ALL STATION DATAFRAME IN A LIST\n",
    "df_list = []\n",
    "for idx,s in enumerate(Station):\n",
    "    file_path  = glob.glob(s+'/*')[0]\n",
    "    df = pd.read_excel(file_path,skiprows=range(0,16))\n",
    "    #df = df.drop('To Date', axis=1)\n",
    "    #df = df.rename(columns = {'From Date':'Date'})\n",
    "    df_list.append(df)\n",
    "    print(f'Station Data {idx} Loaded')\n",
    "    \n",
    "df = aggregate_station_data(df_list)"
   ]
  },
  {
   "cell_type": "code",
   "execution_count": 50,
   "id": "48e56f06",
   "metadata": {},
   "outputs": [
    {
     "data": {
      "text/html": [
       "<div>\n",
       "<style scoped>\n",
       "    .dataframe tbody tr th:only-of-type {\n",
       "        vertical-align: middle;\n",
       "    }\n",
       "\n",
       "    .dataframe tbody tr th {\n",
       "        vertical-align: top;\n",
       "    }\n",
       "\n",
       "    .dataframe thead th {\n",
       "        text-align: right;\n",
       "    }\n",
       "</style>\n",
       "<table border=\"1\" class=\"dataframe\">\n",
       "  <thead>\n",
       "    <tr style=\"text-align: right;\">\n",
       "      <th></th>\n",
       "      <th>From Date</th>\n",
       "      <th>To Date</th>\n",
       "      <th>PM2.5</th>\n",
       "    </tr>\n",
       "  </thead>\n",
       "  <tbody>\n",
       "    <tr>\n",
       "      <th>0</th>\n",
       "      <td>01-01-2014 00:00</td>\n",
       "      <td>01-01-2014 00:15</td>\n",
       "      <td>NaN</td>\n",
       "    </tr>\n",
       "    <tr>\n",
       "      <th>1</th>\n",
       "      <td>01-01-2014 00:15</td>\n",
       "      <td>01-01-2014 00:30</td>\n",
       "      <td>NaN</td>\n",
       "    </tr>\n",
       "    <tr>\n",
       "      <th>2</th>\n",
       "      <td>01-01-2014 00:30</td>\n",
       "      <td>01-01-2014 00:45</td>\n",
       "      <td>NaN</td>\n",
       "    </tr>\n",
       "    <tr>\n",
       "      <th>3</th>\n",
       "      <td>01-01-2014 00:45</td>\n",
       "      <td>01-01-2014 01:00</td>\n",
       "      <td>NaN</td>\n",
       "    </tr>\n",
       "    <tr>\n",
       "      <th>4</th>\n",
       "      <td>01-01-2014 01:00</td>\n",
       "      <td>01-01-2014 01:15</td>\n",
       "      <td>NaN</td>\n",
       "    </tr>\n",
       "    <tr>\n",
       "      <th>...</th>\n",
       "      <td>...</td>\n",
       "      <td>...</td>\n",
       "      <td>...</td>\n",
       "    </tr>\n",
       "    <tr>\n",
       "      <th>280412</th>\n",
       "      <td>30-12-2021 23:00</td>\n",
       "      <td>30-12-2021 23:15</td>\n",
       "      <td>174.433333</td>\n",
       "    </tr>\n",
       "    <tr>\n",
       "      <th>280413</th>\n",
       "      <td>30-12-2021 23:15</td>\n",
       "      <td>30-12-2021 23:30</td>\n",
       "      <td>170.000000</td>\n",
       "    </tr>\n",
       "    <tr>\n",
       "      <th>280414</th>\n",
       "      <td>30-12-2021 23:30</td>\n",
       "      <td>30-12-2021 23:45</td>\n",
       "      <td>146.200000</td>\n",
       "    </tr>\n",
       "    <tr>\n",
       "      <th>280415</th>\n",
       "      <td>30-12-2021 23:45</td>\n",
       "      <td>31-12-2021 00:00</td>\n",
       "      <td>NaN</td>\n",
       "    </tr>\n",
       "    <tr>\n",
       "      <th>280416</th>\n",
       "      <td>31-12-2021 00:00</td>\n",
       "      <td>31-12-2021 00:00</td>\n",
       "      <td>136.100000</td>\n",
       "    </tr>\n",
       "  </tbody>\n",
       "</table>\n",
       "<p>280417 rows × 3 columns</p>\n",
       "</div>"
      ],
      "text/plain": [
       "               From Date           To Date       PM2.5\n",
       "0       01-01-2014 00:00  01-01-2014 00:15         NaN\n",
       "1       01-01-2014 00:15  01-01-2014 00:30         NaN\n",
       "2       01-01-2014 00:30  01-01-2014 00:45         NaN\n",
       "3       01-01-2014 00:45  01-01-2014 01:00         NaN\n",
       "4       01-01-2014 01:00  01-01-2014 01:15         NaN\n",
       "...                  ...               ...         ...\n",
       "280412  30-12-2021 23:00  30-12-2021 23:15  174.433333\n",
       "280413  30-12-2021 23:15  30-12-2021 23:30  170.000000\n",
       "280414  30-12-2021 23:30  30-12-2021 23:45  146.200000\n",
       "280415  30-12-2021 23:45  31-12-2021 00:00         NaN\n",
       "280416  31-12-2021 00:00  31-12-2021 00:00  136.100000\n",
       "\n",
       "[280417 rows x 3 columns]"
      ]
     },
     "execution_count": 50,
     "metadata": {},
     "output_type": "execute_result"
    }
   ],
   "source": [
    "df"
   ]
  },
  {
   "cell_type": "code",
   "execution_count": 51,
   "id": "42a80d9a",
   "metadata": {},
   "outputs": [
    {
     "name": "stdout",
     "output_type": "stream",
     "text": [
      "EXCEL FILE CREATED!!!!\n"
     ]
    }
   ],
   "source": [
    "# Store Data Frame into excel file\n",
    "\n",
    "city_name = 'lucknow_'\n",
    "file_name  = f'./Data/PM/CPCB/combined_station_data/{city_name}.xlsx'\n",
    "\n",
    "# Writing File to destination Location\n",
    "\n",
    "#df.to_excel(file_name, index=False,startrow=16)\n",
    "print(\"EXCEL FILE CREATED!!!!\")"
   ]
  },
  {
   "cell_type": "code",
   "execution_count": null,
   "id": "3ba3b602",
   "metadata": {},
   "outputs": [],
   "source": []
  },
  {
   "cell_type": "code",
   "execution_count": null,
   "id": "12a47604",
   "metadata": {
    "scrolled": false
   },
   "outputs": [],
   "source": []
  },
  {
   "cell_type": "code",
   "execution_count": null,
   "id": "af468aee",
   "metadata": {},
   "outputs": [],
   "source": []
  },
  {
   "cell_type": "code",
   "execution_count": null,
   "id": "882cee8a",
   "metadata": {},
   "outputs": [],
   "source": []
  },
  {
   "cell_type": "code",
   "execution_count": null,
   "id": "2e774083",
   "metadata": {},
   "outputs": [],
   "source": []
  },
  {
   "cell_type": "code",
   "execution_count": null,
   "id": "c0e3a3cb",
   "metadata": {},
   "outputs": [],
   "source": []
  },
  {
   "cell_type": "code",
   "execution_count": null,
   "id": "95c6366f",
   "metadata": {},
   "outputs": [],
   "source": []
  },
  {
   "cell_type": "code",
   "execution_count": null,
   "id": "3dc26ccb",
   "metadata": {},
   "outputs": [],
   "source": []
  }
 ],
 "metadata": {
  "kernelspec": {
   "display_name": "Python 3 (ipykernel)",
   "language": "python",
   "name": "python3"
  },
  "language_info": {
   "codemirror_mode": {
    "name": "ipython",
    "version": 3
   },
   "file_extension": ".py",
   "mimetype": "text/x-python",
   "name": "python",
   "nbconvert_exporter": "python",
   "pygments_lexer": "ipython3",
   "version": "3.9.16"
  }
 },
 "nbformat": 4,
 "nbformat_minor": 5
}
